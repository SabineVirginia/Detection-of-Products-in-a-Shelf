{
 "cells": [
  {
   "cell_type": "markdown",
   "metadata": {},
   "source": [
    "# Relabelling of Annotation\n",
    "\n",
    "The names of my jpg-files and the xml-files with the annotations contain the names of shops, products as well as additional information. This script replaces these names by the names shop1, product1, ..."
   ]
  },
  {
   "cell_type": "markdown",
   "metadata": {},
   "source": [
    "## Imports"
   ]
  },
  {
   "cell_type": "code",
   "execution_count": null,
   "metadata": {},
   "outputs": [],
   "source": [
    "import xml.etree.ElementTree as ET\n",
    "import glob\n",
    "import os\n",
    "import shutil\n",
    "import pandas as pd\n",
    "import numpy as np"
   ]
  },
  {
   "cell_type": "markdown",
   "metadata": {},
   "source": [
    "## Paths\n",
    "\n",
    "Relabel_train.txt contains information about my particular data set."
   ]
  },
  {
   "cell_type": "code",
   "execution_count": null,
   "metadata": {},
   "outputs": [],
   "source": [
    "object_dict = {}\n",
    "\n",
    "with open('relabelling/relabel_train.txt') as f:\n",
    "    an_img_path = f.readline().strip()\n",
    "    relative_path_of_folder_with_original_data = f.readline().strip()\n",
    "    relative_path_of_folder_with_relabelled_data = f.readline().strip()\n",
    "    path_of_folder_with_relabelled_data = f.readline().strip()\n",
    "    name_of_folder_with_relabelled_data = f.readline().strip()\n",
    "    for object_line in f:\n",
    "        old_object_name, new_object_name = object_line.strip().split(' ')\n",
    "        object_dict[old_object_name] = new_object_name"
   ]
  },
  {
   "cell_type": "markdown",
   "metadata": {},
   "source": [
    "## Data Exploration"
   ]
  },
  {
   "cell_type": "markdown",
   "metadata": {},
   "source": [
    "First, I look at a single annotation file and explore the information that it contains."
   ]
  },
  {
   "cell_type": "code",
   "execution_count": null,
   "metadata": {},
   "outputs": [],
   "source": [
    "mytree = ET.parse(an_img_path)\n",
    "myroot = mytree.getroot()"
   ]
  },
  {
   "cell_type": "code",
   "execution_count": null,
   "metadata": {},
   "outputs": [],
   "source": [
    "for el in myroot[0:7]:\n",
    "    print(el.tag)"
   ]
  },
  {
   "cell_type": "markdown",
   "metadata": {},
   "source": [
    "I truncate at position seven, because all the following elements are objects of the same structure."
   ]
  },
  {
   "cell_type": "code",
   "execution_count": null,
   "metadata": {},
   "outputs": [],
   "source": [
    "for el in myroot.findall('folder'):\n",
    "    print(el.text)"
   ]
  },
  {
   "cell_type": "code",
   "execution_count": null,
   "metadata": {},
   "outputs": [],
   "source": [
    "for el in myroot.findall('filename'):\n",
    "    print(el.text)"
   ]
  },
  {
   "cell_type": "code",
   "execution_count": null,
   "metadata": {},
   "outputs": [],
   "source": [
    "for el in myroot.findall('path'):\n",
    "    print(el.text)"
   ]
  },
  {
   "cell_type": "code",
   "execution_count": null,
   "metadata": {},
   "outputs": [],
   "source": [
    "for el in myroot.find('object'):\n",
    "    print(el.tag)"
   ]
  },
  {
   "cell_type": "code",
   "execution_count": null,
   "metadata": {},
   "outputs": [],
   "source": [
    "for el in myroot.findall('object'):\n",
    "    print(el.find('name').text)"
   ]
  },
  {
   "cell_type": "markdown",
   "metadata": {},
   "source": [
    "## Move and Relabel XML\n",
    "\n",
    "Here I take the xml-files from the folder with the original annotations, relabel them, and save them into a new folder."
   ]
  },
  {
   "cell_type": "code",
   "execution_count": null,
   "metadata": {},
   "outputs": [],
   "source": [
    "# The new folder may contain xml-files from previous runs of this script, which I remove here.\n",
    "for filename in os.listdir(relative_path_of_folder_with_relabelled_data):\n",
    "    if filename.endswith('.xml'):\n",
    "\t    path_to_file = os.path.join(relative_path_of_folder_with_relabelled_data, filename)\n",
    "\t    os.remove(path_to_file)\n",
    "\n",
    "shop_dict = {}\n",
    "shop_nr = 1\n",
    "for filename in os.listdir(relative_path_of_folder_with_original_data):\n",
    "    if filename.endswith('.xml'):\n",
    "        mytree = ET.parse(relative_path_of_folder_with_original_data+'/'+filename)\n",
    "        myroot = mytree.getroot()       \n",
    "        shop_dict[filename] = 'shop'+str(shop_nr) \n",
    "        for el in myroot.iter('folder'):\n",
    "            el.text = name_of_folder_with_relabelled_data\n",
    "        for el in myroot.iter('filename'):\n",
    "            el.text = 'shop'+str(shop_nr)+'.jpg'\n",
    "            new_filename = el.text\n",
    "        for el in myroot.findall('path'):\n",
    "            el.text = path_of_folder_with_relabelled_data+new_filename\n",
    "        for el in myroot.findall('object'):\n",
    "            label = str(el.find('name').text)\n",
    "            el.find('name').text = object_dict[label]\n",
    "\n",
    "        mytree.write(relative_path_of_folder_with_relabelled_data+'/'+str(myroot.find('filename').text)[:-4]+'.xml')\n",
    "        \n",
    "        shop_nr += 1"
   ]
  },
  {
   "cell_type": "markdown",
   "metadata": {},
   "source": [
    "## Move and Rename JPG\n",
    "\n",
    "First, I copy the jpg-files into the new folder. Then I rename the images to shop1, shop2, ..."
   ]
  },
  {
   "cell_type": "code",
   "execution_count": null,
   "metadata": {},
   "outputs": [],
   "source": [
    "# The new folder may contain renamed jpg-files from previous runs of this script, which I remove here.\n",
    "for filename in os.listdir(relative_path_of_folder_with_relabelled_data):\n",
    "    if filename.endswith('.jpg'):\n",
    "\t    path_to_file = os.path.join(relative_path_of_folder_with_relabelled_data, filename)\n",
    "\t    os.remove(path_to_file)\n",
    "\n",
    "files = glob.iglob(os.path.join(relative_path_of_folder_with_original_data, '*.jpg'))\n",
    "for file in files:\n",
    "    if os.path.isfile(file):\n",
    "        shutil.copy2(file, relative_path_of_folder_with_relabelled_data)\n",
    "\n",
    "os.chdir(os.environ.get('CAPSTONE_PATH')+'/'+relative_path_of_folder_with_relabelled_data)\n",
    "\n",
    "shop_nr = 1\n",
    "for file_name in glob.glob('*.jpg'):\n",
    "    new_name = shop_dict[file_name[:-4]+'.xml']+'.jpg'\n",
    "    os.rename(file_name, new_name)\n",
    "    shop_nr += 1"
   ]
  },
  {
   "cell_type": "markdown",
   "metadata": {},
   "source": [
    "## Save Old and New Labels\n",
    "\n",
    "First, I check if the relabelling worked correctly."
   ]
  },
  {
   "cell_type": "code",
   "execution_count": null,
   "metadata": {},
   "outputs": [],
   "source": [
    "object_labels_df = pd.DataFrame([[key, value] for key, value in object_dict.items()], columns=['original_label', 'new_label'])\n",
    "object_labels_df.head()"
   ]
  },
  {
   "cell_type": "code",
   "execution_count": null,
   "metadata": {},
   "outputs": [],
   "source": [
    "image_labels_df = pd.DataFrame([[key, value] for key, value in shop_dict.items()], columns=['original_label', 'new_label'])\n",
    "image_labels_df.head()"
   ]
  },
  {
   "cell_type": "markdown",
   "metadata": {},
   "source": [
    "Then I save the original and new object and image labels in npy-files."
   ]
  },
  {
   "cell_type": "code",
   "execution_count": null,
   "metadata": {},
   "outputs": [],
   "source": [
    "os.chdir(os.environ.get('CAPSTONE_PATH'))\n",
    "np.save('relabelling/object_relabelling.npy', object_labels_df, allow_pickle=True)\n",
    "np.save('relabelling/train_image_relabelling.npy', image_labels_df, allow_pickle=True)"
   ]
  }
 ],
 "metadata": {
  "interpreter": {
   "hash": "1f8cd1e5a3c93583abf4fcce1d11fad3cebb9f76000d0813f04fcdcdb8b58a8b"
  },
  "kernelspec": {
   "display_name": "Python 3.9.5 64-bit ('venv': venv)",
   "name": "python3"
  },
  "language_info": {
   "codemirror_mode": {
    "name": "ipython",
    "version": 3
   },
   "file_extension": ".py",
   "mimetype": "text/x-python",
   "name": "python",
   "nbconvert_exporter": "python",
   "pygments_lexer": "ipython3",
   "version": "3.9.5"
  },
  "orig_nbformat": 4
 },
 "nbformat": 4,
 "nbformat_minor": 2
}
