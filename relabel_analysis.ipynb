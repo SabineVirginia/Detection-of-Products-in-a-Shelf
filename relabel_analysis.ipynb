{
 "cells": [
  {
   "cell_type": "markdown",
   "metadata": {},
   "source": [
    "# Relabelling of Images for Analysis\n",
    "\n",
    "The names of my jpg-files contain the names of shops as well as additional information. This script replaces these names by the names shop1, shop2, ..."
   ]
  },
  {
   "cell_type": "markdown",
   "metadata": {},
   "source": [
    "## Imports"
   ]
  },
  {
   "cell_type": "code",
   "execution_count": null,
   "metadata": {},
   "outputs": [],
   "source": [
    "import glob\n",
    "import os\n",
    "import shutil\n",
    "import pandas as pd\n",
    "import numpy as np"
   ]
  },
  {
   "cell_type": "markdown",
   "metadata": {},
   "source": [
    "## Move and Rename JPG\n",
    "\n",
    "First, I copy the jpg-files into the new folder. Then I rename the images to shop1, shop2, ..."
   ]
  },
  {
   "cell_type": "code",
   "execution_count": null,
   "metadata": {},
   "outputs": [],
   "source": [
    "# The new folder may contain renamed jpg-files from previous runs of this script, which I remove here.\n",
    "for filename in os.listdir('images/2021/new_label'):\n",
    "    if filename.endswith('.jpg'):\n",
    "\t    path_to_file = os.path.join('images/2021/new_label', filename)\n",
    "\t    os.remove(path_to_file)\n",
    "\n",
    "files = glob.iglob(os.path.join('images/2021/old_label', '*.jpg'))\n",
    "for file in files:\n",
    "    if os.path.isfile(file):\n",
    "        shutil.copy2(file, 'images/2021/new_label')\n",
    "\n",
    "os.chdir(os.environ.get('CAPSTONE_PATH')+'/'+'images/2021/new_label')\n",
    "\n",
    "shop_dict = {}\n",
    "shop_nr = 1\n",
    "for file_name in glob.glob('*.jpg'):\n",
    "    new_name = 'shop'+str(shop_nr)+'.jpg'\n",
    "    shop_dict[file_name] = new_name\n",
    "    os.rename(file_name, new_name)\n",
    "    shop_nr += 1"
   ]
  },
  {
   "cell_type": "markdown",
   "metadata": {},
   "source": [
    "## Save Old and New Labels\n",
    "\n",
    "First, I check if the relabelling worked correctly."
   ]
  },
  {
   "cell_type": "code",
   "execution_count": null,
   "metadata": {},
   "outputs": [],
   "source": [
    "image_labels_df = pd.DataFrame([[key, value] for key, value in shop_dict.items()], columns=['original_label', 'new_label'])\n",
    "image_labels_df.head()"
   ]
  },
  {
   "cell_type": "markdown",
   "metadata": {},
   "source": [
    "Then I save the original and new object and image labels in npy-files."
   ]
  },
  {
   "cell_type": "code",
   "execution_count": null,
   "metadata": {},
   "outputs": [],
   "source": [
    "os.chdir(os.environ.get('CAPSTONE_PATH'))\n",
    "np.save('relabelling/analysis_image_relabelling.npy', image_labels_df, allow_pickle=True)"
   ]
  }
 ],
 "metadata": {
  "interpreter": {
   "hash": "1f8cd1e5a3c93583abf4fcce1d11fad3cebb9f76000d0813f04fcdcdb8b58a8b"
  },
  "kernelspec": {
   "display_name": "Python 3.9.5 64-bit ('venv': venv)",
   "name": "python3"
  },
  "language_info": {
   "codemirror_mode": {
    "name": "ipython",
    "version": 3
   },
   "file_extension": ".py",
   "mimetype": "text/x-python",
   "name": "python",
   "nbconvert_exporter": "python",
   "pygments_lexer": "ipython3",
   "version": "3.9.5"
  },
  "orig_nbformat": 4
 },
 "nbformat": 4,
 "nbformat_minor": 2
}
