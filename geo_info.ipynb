{
 "cells": [
  {
   "cell_type": "markdown",
   "metadata": {},
   "source": [
    "# Location\n",
    "\n",
    "This notebook looks up the address, longitude and latitude of the stores."
   ]
  },
  {
   "cell_type": "code",
   "execution_count": null,
   "metadata": {},
   "outputs": [],
   "source": [
    "import os\n",
    "import pandas as pd\n",
    "import googlemaps\n",
    "import numpy as np\n",
    "import re"
   ]
  },
  {
   "cell_type": "code",
   "execution_count": null,
   "metadata": {},
   "outputs": [],
   "source": [
    "df_info = pd.read_excel('images/2021/tables/image_name_information.xlsx', index_col=0)"
   ]
  },
  {
   "cell_type": "markdown",
   "metadata": {},
   "source": [
    "Google maps struggles with locations that include the store number for stores that are located in a mall. Therefore we remove the store number from the location."
   ]
  },
  {
   "cell_type": "code",
   "execution_count": null,
   "metadata": {},
   "outputs": [],
   "source": [
    "def remove_shop_nr_from_location(location_str):\n",
    "    location_split_ls = location_str.split(' ')\n",
    "    if re.search(r'\\d', location_split_ls[-1]):\n",
    "        location_split_ls = location_split_ls[:-1]\n",
    "    \n",
    "    return ' '.join(location_split_ls)"
   ]
  },
  {
   "cell_type": "code",
   "execution_count": null,
   "metadata": {},
   "outputs": [],
   "source": [
    "df_info['location'] = df_info['location'].apply(lambda location_str: remove_shop_nr_from_location(location_str))"
   ]
  },
  {
   "cell_type": "code",
   "execution_count": null,
   "metadata": {},
   "outputs": [],
   "source": [
    "retail_rename_dict = {}\n",
    "\n",
    "with open('retailer.txt') as f:\n",
    "    for line in f.readlines():\n",
    "        new_name, old_name = line.strip().split(' ')\n",
    "        retail_rename_dict[new_name] = old_name"
   ]
  },
  {
   "cell_type": "code",
   "execution_count": null,
   "metadata": {},
   "outputs": [],
   "source": [
    "df_info['retailer'] = df_info['retailer'].apply(lambda retail_name: retail_rename_dict[retail_name])"
   ]
  },
  {
   "cell_type": "code",
   "execution_count": null,
   "metadata": {},
   "outputs": [],
   "source": [
    "maps_api_key = os.environ.get('GOOGLE_MAPS_API')\n",
    "map_client = googlemaps.Client(maps_api_key)"
   ]
  },
  {
   "cell_type": "code",
   "execution_count": null,
   "metadata": {},
   "outputs": [],
   "source": [
    "def get_address_lat_lng(location_name):\n",
    "    try:\n",
    "        response = map_client.places(query=location_name)\n",
    "        results = response.get('results')\n",
    "        address = results[0]['formatted_address']\n",
    "        lat, lng = results[0]['geometry']['location'].values()\n",
    "        return address, lat, lng\n",
    "\n",
    "    except Exception as e:\n",
    "        print(e)\n",
    "        return np.nan, np.nan, np.nan"
   ]
  },
  {
   "cell_type": "code",
   "execution_count": null,
   "metadata": {},
   "outputs": [],
   "source": [
    "df_info['query_location'] = df_info['retailer'] + ' ' + df_info['location']"
   ]
  },
  {
   "cell_type": "code",
   "execution_count": null,
   "metadata": {},
   "outputs": [],
   "source": [
    "df_info['address'], df_info['lat'], df_info['lng'] = zip(*df_info['query_location'].map(get_address_lat_lng))"
   ]
  },
  {
   "cell_type": "code",
   "execution_count": null,
   "metadata": {},
   "outputs": [],
   "source": [
    "def extract_zip_code(address_str):\n",
    "    try:\n",
    "        the_zip = re.search('\\s[0-9]{4},', address_str)[0][1:-1]\n",
    "        return the_zip\n",
    "    except Exception as e:\n",
    "        print(e)\n",
    "        return np.nan"
   ]
  },
  {
   "cell_type": "code",
   "execution_count": null,
   "metadata": {},
   "outputs": [],
   "source": [
    "df_info['zip'] = df_info['address'].apply(lambda address_str: extract_zip_code(address_str))"
   ]
  },
  {
   "cell_type": "code",
   "execution_count": null,
   "metadata": {},
   "outputs": [],
   "source": [
    "def get_province(zip_code):\n",
    "    try:\n",
    "        zip_int = int(zip_code)\n",
    "        if (1 <= zip_int <= 299) or (1400 <= zip_int <= 2199):\n",
    "            return 'Gauteng'\n",
    "        if (300 <= zip_int <= 499) or (2500 <= zip_int <= 2899):\n",
    "            return 'Northwest'\n",
    "        if 500 <= zip_int <= 999:\n",
    "            return 'Limpopo'\n",
    "        if (1000 <= zip_int <= 1399) or (2200 <= zip_int <= 2499):\n",
    "            return 'Mpumalanga'\n",
    "        if 2900 <= zip_int <= 4730:\n",
    "            return 'KwaZulu-Natal'\n",
    "        if 4731 <= zip_int <= 6499:\n",
    "            return 'Easter Cape'\n",
    "        if 6500 <= zip_int <= 8099:\n",
    "            return 'Western Cape'\n",
    "        if 8100 <= zip_int <= 8999:\n",
    "            return 'Northern Cape'\n",
    "        if 9300 <= zip_int <= 9999:\n",
    "            return 'Free State'\n",
    "    except Exception as e:\n",
    "        print(e)\n",
    "        return np.nan"
   ]
  },
  {
   "cell_type": "code",
   "execution_count": null,
   "metadata": {},
   "outputs": [],
   "source": [
    "df_info['province'] = df_info['zip'].apply(lambda zip_code: get_province(zip_code))"
   ]
  },
  {
   "cell_type": "code",
   "execution_count": null,
   "metadata": {},
   "outputs": [],
   "source": [
    "reverse_retail_rename_dict = {}\n",
    "\n",
    "for key, value in retail_rename_dict.items():\n",
    "    reverse_retail_rename_dict[value] = key"
   ]
  },
  {
   "cell_type": "code",
   "execution_count": null,
   "metadata": {},
   "outputs": [],
   "source": [
    "df_info['retailer'] = df_info['retailer'].apply(lambda retail_name: reverse_retail_rename_dict[retail_name])"
   ]
  },
  {
   "cell_type": "code",
   "execution_count": null,
   "metadata": {},
   "outputs": [],
   "source": [
    "df_info.to_excel('images/2021/tables/image_name_information_with_location.xlsx')"
   ]
  }
 ],
 "metadata": {
  "interpreter": {
   "hash": "1f8cd1e5a3c93583abf4fcce1d11fad3cebb9f76000d0813f04fcdcdb8b58a8b"
  },
  "kernelspec": {
   "display_name": "Python 3.9.5 64-bit ('venv': venv)",
   "name": "python3"
  },
  "language_info": {
   "codemirror_mode": {
    "name": "ipython",
    "version": 3
   },
   "file_extension": ".py",
   "mimetype": "text/x-python",
   "name": "python",
   "nbconvert_exporter": "python",
   "pygments_lexer": "ipython3",
   "version": "3.9.5"
  },
  "orig_nbformat": 4
 },
 "nbformat": 4,
 "nbformat_minor": 2
}
