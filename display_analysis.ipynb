{
 "cells": [
  {
   "cell_type": "markdown",
   "metadata": {},
   "source": [
    "# Analysis of Displays"
   ]
  },
  {
   "cell_type": "markdown",
   "metadata": {},
   "source": [
    "## Imports"
   ]
  },
  {
   "cell_type": "code",
   "execution_count": null,
   "metadata": {},
   "outputs": [],
   "source": [
    "import pandas as pd"
   ]
  },
  {
   "cell_type": "markdown",
   "metadata": {},
   "source": [
    "## Join Information\n",
    "\n",
    "Here I join the table with the detected objects with the table containing background information about the images."
   ]
  },
  {
   "cell_type": "code",
   "execution_count": null,
   "metadata": {},
   "outputs": [],
   "source": [
    "detection_df = pd.read_excel('images/2021/tables/detected_objects.xlsx', names=['new_name', 'displays', 'product1', 'product2', 'top_design1', 'bottom_design1', 'top_design2', 'bottom_design2', 'top_design3', 'bottom_design3', 'top_design4', 'bottom_design4', 'shelves', 'nr_stacked_shelves', 'nr_products_without_shelf',\n",
    "       'max_nr_products_on_shelf'])\n",
    "info_df = pd.read_excel('images/2021/tables/image_name_information_with_location.xlsx', index_col=0)\n",
    "df = detection_df.merge(info_df, how='inner', on='new_name')\n",
    "df.head()"
   ]
  },
  {
   "cell_type": "markdown",
   "metadata": {},
   "source": [
    "## Display: Design on Top\n",
    "\n",
    "The data includes images of displays and images of store shelves. This analysis focuses on displays, which is why I delete the other rows."
   ]
  },
  {
   "cell_type": "code",
   "execution_count": null,
   "metadata": {},
   "outputs": [],
   "source": [
    "display_df = df[df['displays'] > 0]"
   ]
  },
  {
   "cell_type": "markdown",
   "metadata": {},
   "source": [
    "First, I explore the design of the top part of the displays. One design feature is always present and one of the others is optional."
   ]
  },
  {
   "cell_type": "code",
   "execution_count": null,
   "metadata": {},
   "outputs": [],
   "source": [
    "retailer_top_design_df = display_df[['retailer', 'new_name', 'top_design1', 'top_design2', 'top_design3', 'top_design4']].copy()\n",
    "retailer_top_design_df['top_design1'] = display_df['displays'] - display_df['top_design2'] - display_df['top_design3'] - display_df['top_design4']\n",
    "retailer_top_design_df = retailer_top_design_df.set_index('retailer')\n",
    "retailer_top_design_df.head()"
   ]
  },
  {
   "cell_type": "markdown",
   "metadata": {},
   "source": [
    "Here I check whether there are differences between retailers in which headers they set up."
   ]
  },
  {
   "cell_type": "code",
   "execution_count": null,
   "metadata": {},
   "outputs": [],
   "source": [
    "retailer_top_design_df = retailer_top_design_df.groupby(retailer_top_design_df.index).sum()\n",
    "retailer_top_design_df.plot.bar();"
   ]
  },
  {
   "cell_type": "markdown",
   "metadata": {},
   "source": [
    "The different retailers are different to compare because there are huge differences in size. Here I calculate the percentages of different headers for each retailer."
   ]
  },
  {
   "cell_type": "code",
   "execution_count": null,
   "metadata": {},
   "outputs": [],
   "source": [
    "retailer_top_design_df['total'] = retailer_top_design_df['top_design1'] + retailer_top_design_df['top_design2'] + retailer_top_design_df['top_design3'] + retailer_top_design_df['top_design4']\n",
    "\n",
    "retailer_top_design_pct_df = pd.DataFrame()\n",
    "retailer_top_design_pct_df['top_design1'] = retailer_top_design_df['top_design1'] / retailer_top_design_df['total']\n",
    "retailer_top_design_pct_df['top_design2'] = retailer_top_design_df['top_design2'] / retailer_top_design_df['total']\n",
    "retailer_top_design_pct_df['top_design3'] = retailer_top_design_df['top_design3'] / retailer_top_design_df['total']\n",
    "retailer_top_design_pct_df['top_design4'] = retailer_top_design_df['top_design4'] / retailer_top_design_df['total']\n",
    "\n",
    "retailer_top_design_pct_df.plot.bar(stacked=True);"
   ]
  },
  {
   "cell_type": "markdown",
   "metadata": {},
   "source": [
    "## Display: Design at Bottom\n",
    "\n",
    "Now I explore the design of the bottom part of the displays."
   ]
  },
  {
   "cell_type": "code",
   "execution_count": null,
   "metadata": {},
   "outputs": [],
   "source": [
    "retailer_bottom_design_df = display_df[['retailer', 'new_name', 'bottom_design1', 'bottom_design2']].copy()\n",
    "retailer_bottom_design_df = retailer_bottom_design_df.set_index('retailer')\n",
    "retailer_bottom_design_df.head()"
   ]
  },
  {
   "cell_type": "markdown",
   "metadata": {},
   "source": [
    "Here I check whether there are differences between retailers in which footers they set up."
   ]
  },
  {
   "cell_type": "code",
   "execution_count": null,
   "metadata": {},
   "outputs": [],
   "source": [
    "retailer_bottom_design_df = retailer_bottom_design_df.groupby(retailer_bottom_design_df.index).sum()\n",
    "retailer_bottom_design_df.plot.bar();"
   ]
  },
  {
   "cell_type": "markdown",
   "metadata": {},
   "source": [
    "The different retailers are different to compare because there are huge differences in size. Here I calculate the percentages of different footers for each retailer."
   ]
  },
  {
   "cell_type": "code",
   "execution_count": null,
   "metadata": {},
   "outputs": [],
   "source": [
    "retailer_bottom_design_df['total'] = retailer_bottom_design_df['bottom_design1'] + retailer_bottom_design_df['bottom_design2']\n",
    "\n",
    "retailer_bottom_design_pct_df = pd.DataFrame()\n",
    "retailer_bottom_design_pct_df['bottom_design1'] = retailer_bottom_design_df['bottom_design1'] / retailer_bottom_design_df['total']\n",
    "retailer_bottom_design_pct_df['bottom_design2'] = retailer_bottom_design_df['bottom_design2'] / retailer_bottom_design_df['total']\n",
    "\n",
    "retailer_bottom_design_pct_df.plot.bar(stacked=True);"
   ]
  },
  {
   "cell_type": "markdown",
   "metadata": {},
   "source": [
    "## Display: Product Facings\n",
    "\n",
    "This part looks at the number of facings of two different products."
   ]
  },
  {
   "cell_type": "code",
   "execution_count": null,
   "metadata": {},
   "outputs": [],
   "source": [
    "facings_df = display_df[['new_name', 'product1', 'product2', 'retailer']].copy()\n",
    "facings_df['product1'] = facings_df['product1'] / display_df['displays']\n",
    "facings_df['product2'] = facings_df['product2'] / display_df['displays']"
   ]
  },
  {
   "cell_type": "code",
   "execution_count": null,
   "metadata": {},
   "outputs": [],
   "source": [
    "facings_df.boxplot(by='retailer', rot=90);"
   ]
  },
  {
   "cell_type": "markdown",
   "metadata": {},
   "source": [
    "Now I want to get an idea about how the number of facings of the two products relate to each other on a typical shelf."
   ]
  },
  {
   "cell_type": "code",
   "execution_count": null,
   "metadata": {},
   "outputs": [],
   "source": [
    "retailer_facings_df = facings_df.groupby('retailer').median()\n",
    "retailer_facings_df.plot.bar();"
   ]
  },
  {
   "cell_type": "markdown",
   "metadata": {},
   "source": [
    "There are differences in the size of shelves that different retailers use and the number of both the products on the shelves. For a better comparison of the two products, I calculate percentages."
   ]
  },
  {
   "cell_type": "code",
   "execution_count": null,
   "metadata": {},
   "outputs": [],
   "source": [
    "retailer_facings_df['total'] = retailer_facings_df['product1'] + retailer_facings_df['product2']\n",
    "\n",
    "retailer_facings_pct_df = pd.DataFrame()\n",
    "retailer_facings_pct_df['product1'] = retailer_facings_df['product1'] / retailer_facings_df['total']\n",
    "retailer_facings_pct_df['product2'] = retailer_facings_df['product2'] / retailer_facings_df['total']\n",
    "\n",
    "retailer_facings_pct_df.plot.bar(stacked=True);"
   ]
  },
  {
   "cell_type": "markdown",
   "metadata": {},
   "source": [
    "## Display: Correctly Stacked Displays by Retailer\n",
    "\n",
    "This part checks how many displays contain products that are not supposed to be on the displays for each retailer."
   ]
  },
  {
   "cell_type": "code",
   "execution_count": null,
   "metadata": {},
   "outputs": [],
   "source": [
    "def correctly_stacked_display_check(nr_shelves, nr_shelves_with_correct_products, nr_of_correct_products_per_shelf):\n",
    "    correct_check = True\n",
    "    if nr_shelves > nr_shelves_with_correct_products:\n",
    "        correct_check = False\n",
    "    if nr_of_correct_products_per_shelf in (1,2,3):\n",
    "        correct_check = False\n",
    "    if (nr_of_correct_products_per_shelf == 4) and (nr_shelves in (6,12)):\n",
    "        correct_check = False\n",
    "    return correct_check"
   ]
  },
  {
   "cell_type": "code",
   "execution_count": null,
   "metadata": {},
   "outputs": [],
   "source": [
    "display_df['correctly_stacked'] = display_df[['shelves', 'nr_stacked_shelves', 'max_nr_products_on_shelf']].apply(lambda x: correctly_stacked_display_check(x[0], x[1], x[2]), axis=1)\n",
    "\n",
    "# These lines are only for other uses of info_df outside this notebook.\n",
    "detection_df['correctly_stacked'] = detection_df[['shelves', 'nr_stacked_shelves', 'max_nr_products_on_shelf']].apply(lambda x: correctly_stacked_display_check(x[0], x[1], x[2]), axis=1)\n",
    "detection_df.to_excel('images/2021/tables/detected_objects.xlsx')\n"
   ]
  },
  {
   "cell_type": "code",
   "execution_count": null,
   "metadata": {},
   "outputs": [],
   "source": [
    "correctly_stacked_df = display_df[['new_name', 'retailer', 'correctly_stacked']].copy()\n",
    "correct_df = correctly_stacked_df[correctly_stacked_df['correctly_stacked'] == True].groupby('retailer')['correctly_stacked'].count().to_frame()\n",
    "incorrect_df = correctly_stacked_df[correctly_stacked_df['correctly_stacked'] == False].groupby('retailer')['correctly_stacked'].count().to_frame()\n",
    "incorrect_df.columns = ['incorrectly_stacked']\n",
    "retailer_correctly_stacked_df = correct_df.join(incorrect_df)\n",
    "retailer_correctly_stacked_df['total'] = retailer_correctly_stacked_df['correctly_stacked'] + retailer_correctly_stacked_df['incorrectly_stacked']\n",
    "\n",
    "retailer_correctly_stacked_pct_df = pd.DataFrame()\n",
    "retailer_correctly_stacked_pct_df['correctly_stacked'] = retailer_correctly_stacked_df['correctly_stacked'] / retailer_correctly_stacked_df['total']\n",
    "retailer_correctly_stacked_pct_df['incorrectly_stacked'] = retailer_correctly_stacked_df['incorrectly_stacked'] / retailer_correctly_stacked_df['total']\n",
    "\n",
    "retailer_correctly_stacked_pct_df.plot.bar(stacked=True);"
   ]
  },
  {
   "cell_type": "markdown",
   "metadata": {},
   "source": [
    "## Display: Correctly Stacked Displays by Location\n",
    "\n",
    "This part checks how many displays contain products that are not supposed to be on the displays for each region."
   ]
  },
  {
   "cell_type": "code",
   "execution_count": null,
   "metadata": {},
   "outputs": [],
   "source": [
    "correctly_stacked_df = display_df[['new_name', 'province', 'correctly_stacked']].copy()\n",
    "correct_df = correctly_stacked_df[correctly_stacked_df['correctly_stacked'] == True].groupby('province')['correctly_stacked'].count().to_frame()\n",
    "incorrect_df = correctly_stacked_df[correctly_stacked_df['correctly_stacked'] == False].groupby('province')['correctly_stacked'].count().to_frame()\n",
    "incorrect_df.columns = ['incorrectly_stacked']\n",
    "province_correctly_stacked_df = correct_df.join(incorrect_df)\n",
    "province_correctly_stacked_df['total'] = province_correctly_stacked_df['correctly_stacked'] + province_correctly_stacked_df['incorrectly_stacked']\n",
    "\n",
    "province_correctly_stacked_pct_df = pd.DataFrame()\n",
    "province_correctly_stacked_pct_df['correctly_stacked'] = province_correctly_stacked_df['correctly_stacked'] / province_correctly_stacked_df['total']\n",
    "province_correctly_stacked_pct_df['incorrectly_stacked'] = province_correctly_stacked_df['incorrectly_stacked'] / province_correctly_stacked_df['total']\n",
    "\n",
    "province_correctly_stacked_pct_df.plot.bar(stacked=True);"
   ]
  }
 ],
 "metadata": {
  "interpreter": {
   "hash": "1f8cd1e5a3c93583abf4fcce1d11fad3cebb9f76000d0813f04fcdcdb8b58a8b"
  },
  "kernelspec": {
   "display_name": "Python 3.9.5 64-bit ('venv': venv)",
   "name": "python3"
  },
  "language_info": {
   "codemirror_mode": {
    "name": "ipython",
    "version": 3
   },
   "file_extension": ".py",
   "mimetype": "text/x-python",
   "name": "python",
   "nbconvert_exporter": "python",
   "pygments_lexer": "ipython3",
   "version": "3.9.5"
  },
  "orig_nbformat": 4
 },
 "nbformat": 4,
 "nbformat_minor": 2
}
