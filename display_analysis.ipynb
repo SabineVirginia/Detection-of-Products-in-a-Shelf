{
 "cells": [
  {
   "cell_type": "markdown",
   "metadata": {},
   "source": [
    "# Analysis of Displays"
   ]
  },
  {
   "cell_type": "markdown",
   "metadata": {},
   "source": [
    "## Imports"
   ]
  },
  {
   "cell_type": "code",
   "execution_count": null,
   "metadata": {},
   "outputs": [],
   "source": [
    "import pandas as pd"
   ]
  },
  {
   "cell_type": "markdown",
   "metadata": {},
   "source": [
    "## Join Information\n",
    "\n",
    "Here I join the table with the detected objects with the table containing background information about the images."
   ]
  },
  {
   "cell_type": "code",
   "execution_count": null,
   "metadata": {},
   "outputs": [],
   "source": [
    "detection_df = pd.read_excel('images/2021/tables/detected_objects.xlsx', names=['new_name', 'displays', 'product1', 'product2', 'top_design1', 'bottom_design1', 'top_design2', 'bottom_design2', 'top_design3', 'bottom_design3', 'top_design4', 'bottom_design4', 'shelves'])\n",
    "info_df = pd.read_excel('images/2021/tables/image_name_information.xlsx', index_col=0)\n",
    "df = detection_df.merge(info_df, how='inner', on='new_name')\n",
    "df.head()"
   ]
  },
  {
   "cell_type": "markdown",
   "metadata": {},
   "source": [
    "## Display: Design on Top\n",
    "\n",
    "The data includes images of displays and images of store shelves."
   ]
  },
  {
   "cell_type": "code",
   "execution_count": null,
   "metadata": {},
   "outputs": [],
   "source": [
    "display_df = df[df['displays'] > 0]"
   ]
  },
  {
   "cell_type": "markdown",
   "metadata": {},
   "source": [
    "First, I explore the design of the top part of the displays. One design feature is always present and one of the others is optional."
   ]
  },
  {
   "cell_type": "code",
   "execution_count": null,
   "metadata": {},
   "outputs": [],
   "source": [
    "retailer_top_design_df = display_df[['retailer', 'new_name', 'top_design1', 'top_design2', 'top_design3', 'top_design4']].copy()\n",
    "retailer_top_design_df['top_design1'] = display_df['displays'] - display_df['top_design2'] - display_df['top_design3'] - display_df['top_design4']\n",
    "retailer_top_design_df = retailer_top_design_df.set_index('retailer')\n",
    "retailer_top_design_df.head()"
   ]
  },
  {
   "cell_type": "markdown",
   "metadata": {},
   "source": [
    "Here I check whether there are differences between retailers in which headers they set up."
   ]
  },
  {
   "cell_type": "code",
   "execution_count": null,
   "metadata": {},
   "outputs": [],
   "source": [
    "retailer_top_design_sum_df = retailer_top_design_df.groupby(retailer_top_design_df.index).sum()\n",
    "retailer_top_design_sum_df['total'] = retailer_top_design_sum_df['top_design1'] + retailer_top_design_sum_df['top_design2'] + retailer_top_design_sum_df['top_design3'] + retailer_top_design_sum_df['top_design4']\n",
    "retailer_top_design_sum_df"
   ]
  },
  {
   "cell_type": "code",
   "execution_count": null,
   "metadata": {},
   "outputs": [],
   "source": [
    "retailer_top_design_pct_df = pd.DataFrame()\n",
    "retailer_top_design_pct_df['top_design1'] = retailer_top_design_sum_df['top_design1'] / retailer_top_design_sum_df['total']\n",
    "retailer_top_design_pct_df['top_design2'] = retailer_top_design_sum_df['top_design2'] / retailer_top_design_sum_df['total']\n",
    "retailer_top_design_pct_df['top_design3'] = retailer_top_design_sum_df['top_design3'] / retailer_top_design_sum_df['total']\n",
    "retailer_top_design_pct_df['top_design4'] = retailer_top_design_sum_df['top_design4'] / retailer_top_design_sum_df['total']\n",
    "retailer_top_design_pct_df"
   ]
  },
  {
   "cell_type": "code",
   "execution_count": null,
   "metadata": {},
   "outputs": [],
   "source": [
    "retailer_top_design_pct_df.plot.bar();"
   ]
  },
  {
   "cell_type": "markdown",
   "metadata": {},
   "source": [
    "## Display: Design at Bottom\n",
    "\n",
    "Now I explore the design of the bottom part of the displays."
   ]
  },
  {
   "cell_type": "code",
   "execution_count": null,
   "metadata": {},
   "outputs": [],
   "source": [
    "retailer_bottom_design_df = display_df[['retailer', 'new_name', 'bottom_design1', 'bottom_design2']].copy()\n",
    "retailer_bottom_design_df = retailer_bottom_design_df.set_index('retailer')\n",
    "retailer_bottom_design_df.head()"
   ]
  },
  {
   "cell_type": "markdown",
   "metadata": {},
   "source": [
    "Here I check whether there are differences between retailers in which footers they set up."
   ]
  },
  {
   "cell_type": "code",
   "execution_count": null,
   "metadata": {},
   "outputs": [],
   "source": [
    "retailer_bottom_design_sum_df = retailer_bottom_design_df.groupby(retailer_bottom_design_df.index).sum()\n",
    "retailer_bottom_design_sum_df['total'] = retailer_bottom_design_sum_df['bottom_design1'] + retailer_bottom_design_sum_df['bottom_design2']\n",
    "retailer_bottom_design_sum_df"
   ]
  },
  {
   "cell_type": "code",
   "execution_count": null,
   "metadata": {},
   "outputs": [],
   "source": [
    "retailer_bottom_design_pct_df = pd.DataFrame()\n",
    "retailer_bottom_design_pct_df['bottom_design1'] = retailer_bottom_design_sum_df['bottom_design1'] / retailer_bottom_design_sum_df['total']\n",
    "retailer_bottom_design_pct_df['bottom_design2'] = retailer_bottom_design_sum_df['bottom_design2'] / retailer_bottom_design_sum_df['total']\n",
    "retailer_bottom_design_pct_df"
   ]
  },
  {
   "cell_type": "code",
   "execution_count": null,
   "metadata": {},
   "outputs": [],
   "source": [
    "retailer_bottom_design_pct_df.plot.bar();"
   ]
  },
  {
   "cell_type": "markdown",
   "metadata": {},
   "source": [
    "## Display: Product Facings\n",
    "\n",
    "This part looks at how the displays are stacked."
   ]
  },
  {
   "cell_type": "code",
   "execution_count": null,
   "metadata": {},
   "outputs": [],
   "source": [
    "facings_df = display_df[['new_name', 'product1', 'product2', 'retailer']].copy()\n",
    "facings_df['product1'] = facings_df['product1'] / display_df['displays']\n",
    "facings_df['product2'] = facings_df['product2'] / display_df['displays']"
   ]
  },
  {
   "cell_type": "code",
   "execution_count": null,
   "metadata": {},
   "outputs": [],
   "source": [
    "facings_df.boxplot(by='retailer', rot=90);"
   ]
  },
  {
   "cell_type": "code",
   "execution_count": null,
   "metadata": {},
   "outputs": [],
   "source": [
    "retailer_facings_df = facings_df.groupby('retailer').median()\n",
    "retailer_facings_df.plot.bar();"
   ]
  }
 ],
 "metadata": {
  "interpreter": {
   "hash": "1f8cd1e5a3c93583abf4fcce1d11fad3cebb9f76000d0813f04fcdcdb8b58a8b"
  },
  "kernelspec": {
   "display_name": "Python 3.9.5 64-bit ('venv': venv)",
   "name": "python3"
  },
  "language_info": {
   "codemirror_mode": {
    "name": "ipython",
    "version": 3
   },
   "file_extension": ".py",
   "mimetype": "text/x-python",
   "name": "python",
   "nbconvert_exporter": "python",
   "pygments_lexer": "ipython3",
   "version": "3.9.5"
  },
  "orig_nbformat": 4
 },
 "nbformat": 4,
 "nbformat_minor": 2
}
